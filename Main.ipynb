{
 "cells": [
  {
   "cell_type": "markdown",
   "metadata": {},
   "source": [
    "### Gini Impurity dapat dihitung dengan rumus: \n",
    "# $$Gini = 1 - \\sum_{i=1}^{n} p_i^2$$\n"
   ]
  },
  {
   "cell_type": "code",
   "execution_count": null,
   "metadata": {},
   "outputs": [],
   "source": [
    "public double giniImpurity(double[] labels, int n) {\n",
    "    double giniImpurity = 1.0;\n",
    "    double p = 0.0;\n",
    "\n",
    "    for(int i = 0; i < labels.length; i++){\n",
    "        p += (labels[i] / n * labels[i] / n);\n",
    "    }\n",
    "\n",
    "    giniImpurity -= p;\n",
    "    return giniImpurity;\n",
    "}"
   ]
  },
  {
   "cell_type": "markdown",
   "metadata": {},
   "source": [
    "#### Test GiniInpurity"
   ]
  },
  {
   "cell_type": "code",
   "execution_count": 14,
   "metadata": {},
   "outputs": [
    {
     "name": "stdout",
     "output_type": "stream",
     "text": [
      "0.48\n"
     ]
    }
   ],
   "source": [
    "double[] labels = {6,4};\n",
    "double hasil = giniImpurity(labels, 10);\n",
    "System.out.println(hasil);"
   ]
  },
  {
   "cell_type": "markdown",
   "metadata": {},
   "source": [
    "### Entropy dapat dihitung dengan rumus: \n",
    "# $$Entropy = \\sum_{i=1}^{n} p_i \\log_2 (p_i)$$"
   ]
  },
  {
   "cell_type": "code",
   "execution_count": null,
   "metadata": {},
   "outputs": [
    {
     "ename": "CompilationException",
     "evalue": "",
     "output_type": "error",
     "traceback": [
      "\u001b[1m\u001b[30m|   \u001b[1m\u001b[30mpublic double entropy()\u001b[0m\u001b[1m\u001b[30m\u001b[41m{}\u001b[0m\u001b[1m\u001b[30m\u001b[0m",
      "\u001b[1m\u001b[31mmissing return statement\u001b[0m",
      ""
     ]
    }
   ],
   "source": [
    "public double entropy(){\n",
    "    \n",
    "}"
   ]
  },
  {
   "cell_type": "markdown",
   "metadata": {},
   "source": [
    "### Informatinn Gain dapat dihitung dengan rumus: \n",
    "### $$ InformationGain = \\text{Entropy}_\\text{parent} – \\sum_{i=1}^{n} \\left( \\frac{|D_i|}{|D|} \\ast \\text{Entropy}(D_i) \\right) $$"
   ]
  }
 ],
 "metadata": {
  "kernelspec": {
   "display_name": "Java",
   "language": "java",
   "name": "java"
  },
  "language_info": {
   "codemirror_mode": "java",
   "file_extension": ".jshell",
   "mimetype": "text/x-java-source",
   "name": "java",
   "pygments_lexer": "java",
   "version": "23+37-2369"
  }
 },
 "nbformat": 4,
 "nbformat_minor": 2
}
