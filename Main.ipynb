{
 "cells": [
  {
   "cell_type": "markdown",
   "metadata": {},
   "source": [
    "### Gini Impurity dapat dihitung dengan rumus: \n",
    "# $$Gini = 1 - \\sum_{i=1}^{n} p_i^2$$\n"
   ]
  },
  {
   "cell_type": "code",
   "execution_count": 31,
   "metadata": {
    "vscode": {
     "languageId": "java"
    }
   },
   "outputs": [],
   "source": [
    "public double giniImpurity(double[] labels) {\n",
    "    int n = 0;\n",
    "    double giniImpurity = 1.0;\n",
    "    double p = 0.0;\n",
    "\n",
    "    for(var ni : labels){\n",
    "        n += ni;\n",
    "    }\n",
    "\n",
    "    for(int i = 0; i < labels.length; i++){\n",
    "        p += (labels[i] / n * labels[i] / n);\n",
    "    }   \n",
    "\n",
    "    giniImpurity -= p;\n",
    "    return giniImpurity;\n",
    "}"
   ]
  },
  {
   "cell_type": "markdown",
   "metadata": {},
   "source": [
    "#### Test GiniInpurity"
   ]
  },
  {
   "cell_type": "code",
   "execution_count": 32,
   "metadata": {
    "vscode": {
     "languageId": "java"
    }
   },
   "outputs": [
    {
     "name": "stdout",
     "output_type": "stream",
     "text": [
      "0.48\n"
     ]
    }
   ],
   "source": [
    "double[] labels = {6,4};\n",
    "double hasil = giniImpurity(labels);\n",
    "System.out.println(hasil); "
   ]
  },
  {
   "cell_type": "markdown",
   "metadata": {},
   "source": [
    "### Entropy dapat dihitung dengan rumus: \n",
    "# $$Entropy = - \\sum_{i=1}^{n} p_i \\log_2 (p_i)$$"
   ]
  },
  {
   "cell_type": "code",
   "execution_count": 33,
   "metadata": {
    "vscode": {
     "languageId": "java"
    }
   },
   "outputs": [],
   "source": [
    "public double entropy(double[] labels){\n",
    "    int n = 0;\n",
    "    double entropy = 0.0;\n",
    "\n",
    "    for(double ni : labels){\n",
    "        n += ni;\n",
    "    }\n",
    "    for(int i = 0; i < labels.length; i++){\n",
    "        double pi = labels[i] / n;\n",
    "        entropy -= pi*(Math.log(pi) / Math.log(2));\n",
    "    }\n",
    "    return entropy;\n",
    "}"
   ]
  },
  {
   "cell_type": "code",
   "execution_count": 34,
   "metadata": {
    "vscode": {
     "languageId": "java"
    }
   },
   "outputs": [],
   "source": [
    "public static double entropy2(double[] labels) {\n",
    "    int n = 0;\n",
    "    double entropy = 0.0;\n",
    "\n",
    "    for (double ni : labels) {\n",
    "        n += ni;\n",
    "    }\n",
    "\n",
    "    for (int i = 0; i < labels.length; i++) {\n",
    "        if (n != 0 && labels[i] != 0) {\n",
    "            double pi = labels[i] / n;\n",
    "            entropy -= pi * (Math.log(pi) / Math.log(2));\n",
    "        }\n",
    "    }\n",
    "\n",
    "    return entropy;\n",
    "}"
   ]
  },
  {
   "cell_type": "code",
   "execution_count": 35,
   "metadata": {
    "vscode": {
     "languageId": "java"
    }
   },
   "outputs": [
    {
     "name": "stdout",
     "output_type": "stream",
     "text": [
      "0.9709505944546686\n"
     ]
    }
   ],
   "source": [
    "double[] labels = {3,2};\n",
    "int n = 5;\n",
    "System.out.println(entropy(labels));"
   ]
  },
  {
   "cell_type": "markdown",
   "metadata": {},
   "source": [
    "### Informatinn Gain dapat dihitung dengan rumus: \n",
    "### $$ InformationGain = \\text{Entropy}_\\text{parent} – \\sum_{i=1}^{n} \\left( \\frac{|D_i|}{|D|} \\ast \\text{Entropy}(D_i) \\right) $$"
   ]
  },
  {
   "cell_type": "code",
   "execution_count": 36,
   "metadata": {
    "vscode": {
     "languageId": "java"
    }
   },
   "outputs": [],
   "source": [
    "public double informationGain(double[][] labels){\n",
    "    int n = 0;\n",
    "\n",
    "    double infoGain = 0.0;\n",
    "    double entropyParent = 0.0;\n",
    "    double entropyTertimbang = 0.0;\n",
    "\n",
    "\n",
    "    for(int i = 0; i < labels.length; i++){\n",
    "        // entropyParent += entropy(labels[i]); // salah\n",
    "        n = 0;\n",
    "        for(int j = 0; j < labels[i].length; j++){\n",
    "            entropyTertimbang = 0.0;\n",
    "            n += labels[i][j];\n",
    "\n",
    "            entropyTertimbang += (labels[i][j] / n) * entropy(labels[i]); \n",
    "        }\n",
    "        // for(int j = 0; j < labels[i].length; j++){\n",
    "        //     entropyParent += (labels[i][j] / n) * entropy(labels[i]);\n",
    "\n",
    "        // }\n",
    "    }\n",
    "    System.out.println(entropyParent);\n",
    "    infoGain = entropyParent - entropyTertimbang;\n",
    "    return Math.abs(infoGain);\n",
    "}"
   ]
  },
  {
   "cell_type": "code",
   "execution_count": 37,
   "metadata": {
    "vscode": {
     "languageId": "java"
    }
   },
   "outputs": [],
   "source": [
    "public double informationGain2(double[][] labels) {\n",
    "    int totalElements = 0;\n",
    "    double infoGain = 0.0;\n",
    "    double entropyParent = 0.0;\n",
    "    double entropyTertimbang = 0.0;\n",
    "\n",
    "    double[] combinedLabels = new double[labels.length * labels[0].length];\n",
    "    int index = 0;\n",
    "    for (int i = 0; i < labels.length; i++) {\n",
    "        for (int j = 0; j < labels[i].length; j++) {\n",
    "            combinedLabels[index++] = labels[i][j];\n",
    "            totalElements += labels[i][j];\n",
    "        }\n",
    "    }\n",
    "    entropyParent = entropy2(combinedLabels);\n",
    "\n",
    "    for (int i = 0; i < labels.length; i++) {\n",
    "        int n = 0;\n",
    "        for (int j = 0; j < labels[i].length; j++) {\n",
    "            n += labels[i][j];\n",
    "        }\n",
    "\n",
    "        for (int j = 0; j < labels[i].length; j++) {\n",
    "            if (n != 0) {\n",
    "                entropyTertimbang += (labels[i][j] / n) * entropy2(labels[i]);\n",
    "                \n",
    "            }\n",
    "        }\n",
    "    }\n",
    "\n",
    "    infoGain = entropyParent - entropyTertimbang;\n",
    "    return Math.abs(infoGain);\n",
    "}"
   ]
  },
  {
   "cell_type": "code",
   "execution_count": 38,
   "metadata": {
    "vscode": {
     "languageId": "java"
    }
   },
   "outputs": [
    {
     "name": "stdout",
     "output_type": "stream",
     "text": [
      "0.037593748197109370.0\n",
      "0.2028195311147832"
     ]
    }
   ],
   "source": [
    "double[][] labels = {\n",
    "    // {iya, tidak}\n",
    "    {3, 1},\n",
    "    {1, 3}, \n",
    "    {3, 1}  \n",
    "};\n",
    "\n",
    "System.out.print(informationGain2(labels));\n",
    "\n",
    "\n",
    "System.out.print(informationGain(labels)); //"
   ]
  },
  {
   "cell_type": "markdown",
   "metadata": {},
   "source": [
    "## TREE"
   ]
  },
  {
   "cell_type": "code",
   "execution_count": null,
   "metadata": {
    "vscode": {
     "languageId": "java"
    }
   },
   "outputs": [],
   "source": []
  }
 ],
 "metadata": {
  "kernelspec": {
   "display_name": "Java",
   "language": "java",
   "name": "java"
  },
  "language_info": {
   "codemirror_mode": "java",
   "file_extension": ".jshell",
   "mimetype": "text/x-java-source",
   "name": "Java",
   "pygments_lexer": "java",
   "version": "23+37-2369"
  }
 },
 "nbformat": 4,
 "nbformat_minor": 2
}
